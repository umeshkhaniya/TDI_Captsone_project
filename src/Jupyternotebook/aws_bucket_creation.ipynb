{
 "cells": [
  {
   "cell_type": "markdown",
   "metadata": {},
   "source": [
    "# We are using Iam roles for boto3. Create the Iam user. Save the AWS_ACCESS_KEY and AWS_ACCESS_SECRET_KEY in aws.cfg file"
   ]
  },
  {
   "cell_type": "code",
   "execution_count": 1,
   "metadata": {},
   "outputs": [],
   "source": [
    "import boto3"
   ]
  },
  {
   "cell_type": "code",
   "execution_count": 2,
   "metadata": {},
   "outputs": [
    {
     "data": {
      "text/plain": [
       "['/home/jovyan/datacourse/database-systems/miniprojects/aws.cfg']"
      ]
     },
     "execution_count": 2,
     "metadata": {},
     "output_type": "execute_result"
    }
   ],
   "source": [
    "import configparser\n",
    "config = configparser.ConfigParser()\n",
    "config.read(\"/home/jovyan/datacourse/database-systems/miniprojects/aws.cfg\")"
   ]
  },
  {
   "cell_type": "code",
   "execution_count": 3,
   "metadata": {},
   "outputs": [],
   "source": [
    "aws_key_id = config.get(\"AWS\", \"AWS_ACCESS_KEY\")\n",
    "aws_secret_key = config.get(\"AWS\", \"AWS_ACCESS_SECRET_KEY\")"
   ]
  },
  {
   "cell_type": "code",
   "execution_count": 4,
   "metadata": {},
   "outputs": [],
   "source": [
    "# creating the session object using aws\n",
    "session = boto3.session.Session( \n",
    "    aws_access_key_id=aws_key_id, \n",
    "    aws_secret_access_key=aws_secret_key,\n",
    "    region_name='us-east-2'\n",
    ")"
   ]
  },
  {
   "cell_type": "code",
   "execution_count": 5,
   "metadata": {},
   "outputs": [
    {
     "data": {
      "text/plain": [
       "s3.ServiceResource()"
      ]
     },
     "execution_count": 5,
     "metadata": {},
     "output_type": "execute_result"
    }
   ],
   "source": [
    "# Using our session and configurations\n",
    "s3_resource = session.resource('s3')\n",
    "s3_resource"
   ]
  },
  {
   "cell_type": "markdown",
   "metadata": {},
   "source": [
    "# creating the bucket"
   ]
  },
  {
   "cell_type": "code",
   "execution_count": 6,
   "metadata": {},
   "outputs": [],
   "source": [
    "bucket_name = 'bucket-demo-uk'\n",
    "def create_bucket(session, bucket_name):\n",
    "    \"\"\"Creates an AWS S3 bucket in the 'us-east-2' region\"\"\"\n",
    "    try:\n",
    "        s3_resource = session.resource('s3')\n",
    "        response = s3_resource.create_bucket(\n",
    "            Bucket=bucket_name,\n",
    "            CreateBucketConfiguration={'LocationConstraint': 'us-east-2'}\n",
    "        )\n",
    "        \n",
    "        bucket = s3_resource.Bucket(bucket_name)\n",
    "        return bucket\n",
    "        \n",
    "    except s3_resource.meta.client.exceptions.BucketAlreadyExists:\n",
    "        bucket = s3_resource.Bucket(bucket_name)\n",
    "        return bucket\n",
    "        \n",
    "    except Exception as e:\n",
    "        print(e)"
   ]
  },
  {
   "cell_type": "code",
   "execution_count": 7,
   "metadata": {},
   "outputs": [],
   "source": [
    "bucket = create_bucket(session, bucket_name)"
   ]
  },
  {
   "cell_type": "code",
   "execution_count": 8,
   "metadata": {},
   "outputs": [
    {
     "name": "stdout",
     "output_type": "stream",
     "text": [
      "aws-emr-resources-457094424006-us-east-2\n",
      "aws-logs-457094424006-us-east-2\n",
      "aws-logs-457094424006-us-west-2\n",
      "bucket-demo-uk\n",
      "data-est2-cap\n",
      "data-input-captsone\n",
      "src-code-bootstrap\n"
     ]
    }
   ],
   "source": [
    "# printing the bucket all present\n",
    "for bucket in s3_resource.buckets.all():\n",
    "    print(bucket.name)"
   ]
  },
  {
   "cell_type": "markdown",
   "metadata": {},
   "source": [
    "# Delete the bucket"
   ]
  },
  {
   "cell_type": "code",
   "execution_count": 9,
   "metadata": {},
   "outputs": [],
   "source": [
    "\n",
    "def delete_buckets(session, bucket_names):\n",
    "    \"\"\"Empty and Delete AWS buckets\"\"\"\n",
    "    try:\n",
    "        s3_resource = session.resource('s3')\n",
    "        responses = {}\n",
    "        for bucket_name in bucket_names:\n",
    "            bucket = s3_resource.Bucket(bucket_name)\n",
    "            # to delete buckets they must be empty\n",
    "            bucket.objects.all().delete()\n",
    "            responses[bucket_name] = bucket.delete()\n",
    "            print(f'{bucket_name}: {responses[bucket_name]} \\n')\n",
    "            \n",
    "        return responses\n",
    "            \n",
    "    except Exception as e:\n",
    "        print(e)"
   ]
  },
  {
   "cell_type": "code",
   "execution_count": 10,
   "metadata": {},
   "outputs": [
    {
     "name": "stdout",
     "output_type": "stream",
     "text": [
      "bucket-demo-uk: {'ResponseMetadata': {'RequestId': '0GQR0R8DYYX45HW4', 'HostId': 'laRPo+wWHsPZxsmrrAZnDKaX6kG8Eqy+DMQyulBu1LLNNP56BOHrixE2fcgfXdx6ENF3ZqHOJ3U=', 'HTTPStatusCode': 204, 'HTTPHeaders': {'x-amz-id-2': 'laRPo+wWHsPZxsmrrAZnDKaX6kG8Eqy+DMQyulBu1LLNNP56BOHrixE2fcgfXdx6ENF3ZqHOJ3U=', 'x-amz-request-id': '0GQR0R8DYYX45HW4', 'date': 'Fri, 11 Mar 2022 22:47:24 GMT', 'server': 'AmazonS3'}, 'RetryAttempts': 0}} \n",
      "\n"
     ]
    }
   ],
   "source": [
    "bucket_names = ['bucket-demo-uk']\n",
    "responses = delete_buckets(session, bucket_names)"
   ]
  },
  {
   "cell_type": "code",
   "execution_count": 11,
   "metadata": {},
   "outputs": [
    {
     "name": "stdout",
     "output_type": "stream",
     "text": [
      "aws-emr-resources-457094424006-us-east-2\n",
      "aws-logs-457094424006-us-east-2\n",
      "aws-logs-457094424006-us-west-2\n",
      "data-est2-cap\n",
      "data-input-captsone\n",
      "src-code-bootstrap\n"
     ]
    }
   ],
   "source": [
    "# printing the bucket all present\n",
    "for bucket in s3_resource.buckets.all():\n",
    "    print(bucket.name)"
   ]
  },
  {
   "cell_type": "code",
   "execution_count": null,
   "metadata": {},
   "outputs": [],
   "source": []
  }
 ],
 "metadata": {
  "kernelspec": {
   "display_name": "Python 3 (ipykernel)",
   "language": "python",
   "name": "python3"
  },
  "language_info": {
   "codemirror_mode": {
    "name": "ipython",
    "version": 3
   },
   "file_extension": ".py",
   "mimetype": "text/x-python",
   "name": "python",
   "nbconvert_exporter": "python",
   "pygments_lexer": "ipython3",
   "version": "3.9.7"
  }
 },
 "nbformat": 4,
 "nbformat_minor": 4
}
