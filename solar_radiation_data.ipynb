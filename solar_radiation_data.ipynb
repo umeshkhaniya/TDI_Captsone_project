{
 "cells": [
  {
   "cell_type": "code",
   "execution_count": 1,
   "metadata": {},
   "outputs": [],
   "source": [
    "import sys, os\n",
    "import pandas as pd\n",
    "import numpy as np\n",
    "from IPython.display import display\n",
    "import seaborn as sns\n",
    "import matplotlib.pyplot as plt"
   ]
  },
  {
   "cell_type": "markdown",
   "metadata": {},
   "source": [
    "The goal here is to download the data from the National Solar Radiation website and data here contains the temperature, Solar Zenith Angle, wind speed, etc. Based on the temperature and zenith angle, our aim is to find out the most promising location to set up the solar panel on a large scale. The final goal of the project is to combine this solar radiation data and rooftop database to explore and predict the solar market in a zip code. One solar panel can be built if the house has a PV rooftop. "
   ]
  },
  {
   "cell_type": "markdown",
   "metadata": {},
   "source": [
    "Here based on New york latitude and longitude (40.730610, -73.935242), I am scrapping the radiation data for the years 2010 to 2021 for only that location is due to a memory problem in my personal computer. But the final goal will be to take radiation data of several years and ingest the data into AWS cloud service and develop the ETL pipeline for large datasets and using Airflow for scheduling jobs.\n",
    "\n"
   ]
  },
  {
   "cell_type": "code",
   "execution_count": 2,
   "metadata": {},
   "outputs": [],
   "source": [
    "# This code is adopted from NSRB python webscrapping tutorial.\n",
    "# Define the lat, long of the location and the year\n",
    "lat, lon = 40.730610, -73.935242\n",
    "# You must request an NSRDB api key from the link above. Here I delte from key\n",
    "api_key = '..'\n",
    "# Set the attributes to extract (e.g., dhi, ghi, etc.), separated by commas.\n",
    "attributes = 'ghi,dhi,dni,wind_speed,air_temperature,solar_zenith_angle'\n",
    "\n",
    "# Set leap year to true or false. True will return leap day data if present, false will not.\n",
    "leap_year = 'false'\n",
    "# Set time interval in minutes, i.e., '30' is half hour intervals. Valid intervals are 30 & 60.\n",
    "interval = '60'\n",
    "# Specify Coordinated Universal Time (UTC), 'true' will use UTC, 'false' will use the local time zone of the data.\n",
    "# NOTE: In order to use the NSRDB data in SAM, you must specify UTC as 'false'. SAM requires the data to be in the\n",
    "# local time zone.\n",
    "utc = 'false'\n",
    "# Your full name, use '+' instead of spaces.\n",
    "your_name = 'Umesh+Khaniya'\n",
    "# Your reason for using the NSRDB.\n",
    "reason_for_use = 'project+work'\n",
    "# Your affiliation\n",
    "your_affiliation = 'Cuny'\n",
    "# Your email address\n",
    "your_email = 'umesh.khaniya2010@gmail.com'\n",
    "# Please join our mailing list so we can keep you up-to-date on new developments.\n",
    "mailing_list = 'true'\n",
    "\n"
   ]
  },
  {
   "cell_type": "code",
   "execution_count": 3,
   "metadata": {},
   "outputs": [],
   "source": [
    "# select year you want to start and you want to go. Here year from 2010 to 2020 is taken.\n",
    "df_combine_data = []\n",
    "year = 2010\n",
    "while year < 2021:\n",
    "    df = pd.read_csv('https://developer.nrel.gov/api/nsrdb/v2/solar/psm3-download.csv?wkt=POINT({lon}%20{lat})&names={year}&leap_day={leap}&interval={interval}&utc={utc}&full_name={name}&email={email}&affiliation={affiliation}&mailing_list={mailing_list}&reason={reason}&api_key={api}&attributes={attr}'.format(year=year, lat=lat, lon=lon, leap=leap_year, interval=interval, utc=utc, name=your_name, email=your_email, mailing_list=mailing_list, affiliation=your_affiliation, reason=reason_for_use, api=api_key, attr=attributes), skiprows=2)\n",
    "    df_combine_data.append(df)\n",
    "    year += 1\n",
    "    "
   ]
  },
  {
   "cell_type": "code",
   "execution_count": 4,
   "metadata": {},
   "outputs": [],
   "source": [
    "# make panda dataframe and save as csv file\n",
    "df_all = pd.concat(df_combine_data)\n",
    "# Save the data into csv file\n",
    "solar_radition_data = df_all.to_csv(\"solar_radition_data.csv\", index_label = False)\n"
   ]
  },
  {
   "cell_type": "code",
   "execution_count": 5,
   "metadata": {},
   "outputs": [
    {
     "data": {
      "text/plain": [
       "(96360, 11)"
      ]
     },
     "execution_count": 5,
     "metadata": {},
     "output_type": "execute_result"
    }
   ],
   "source": [
    "df_all.shape"
   ]
  },
  {
   "cell_type": "markdown",
   "metadata": {},
   "source": [
    "Here data size is 96360 rows and 11 coulmns but in the future, I am planning to look for national wise( all places in the USA).\n"
   ]
  },
  {
   "cell_type": "code",
   "execution_count": 6,
   "metadata": {},
   "outputs": [],
   "source": [
    "# read the data from csv file\n",
    "solar_data = pd.read_csv(\"solar_radition_data.csv\")"
   ]
  },
  {
   "cell_type": "code",
   "execution_count": 7,
   "metadata": {},
   "outputs": [
    {
     "data": {
      "text/html": [
       "<div>\n",
       "<style scoped>\n",
       "    .dataframe tbody tr th:only-of-type {\n",
       "        vertical-align: middle;\n",
       "    }\n",
       "\n",
       "    .dataframe tbody tr th {\n",
       "        vertical-align: top;\n",
       "    }\n",
       "\n",
       "    .dataframe thead th {\n",
       "        text-align: right;\n",
       "    }\n",
       "</style>\n",
       "<table border=\"1\" class=\"dataframe\">\n",
       "  <thead>\n",
       "    <tr style=\"text-align: right;\">\n",
       "      <th></th>\n",
       "      <th>Year</th>\n",
       "      <th>Month</th>\n",
       "      <th>Day</th>\n",
       "      <th>Hour</th>\n",
       "      <th>Minute</th>\n",
       "      <th>GHI</th>\n",
       "      <th>DHI</th>\n",
       "      <th>DNI</th>\n",
       "      <th>Wind Speed</th>\n",
       "      <th>Temperature</th>\n",
       "      <th>Solar Zenith Angle</th>\n",
       "    </tr>\n",
       "  </thead>\n",
       "  <tbody>\n",
       "    <tr>\n",
       "      <th>0</th>\n",
       "      <td>2010</td>\n",
       "      <td>1</td>\n",
       "      <td>1</td>\n",
       "      <td>0</td>\n",
       "      <td>30</td>\n",
       "      <td>0</td>\n",
       "      <td>0</td>\n",
       "      <td>0</td>\n",
       "      <td>0.9</td>\n",
       "      <td>0.0</td>\n",
       "      <td>161.12</td>\n",
       "    </tr>\n",
       "    <tr>\n",
       "      <th>1</th>\n",
       "      <td>2010</td>\n",
       "      <td>1</td>\n",
       "      <td>1</td>\n",
       "      <td>1</td>\n",
       "      <td>30</td>\n",
       "      <td>0</td>\n",
       "      <td>0</td>\n",
       "      <td>0</td>\n",
       "      <td>1.0</td>\n",
       "      <td>0.0</td>\n",
       "      <td>153.96</td>\n",
       "    </tr>\n",
       "    <tr>\n",
       "      <th>2</th>\n",
       "      <td>2010</td>\n",
       "      <td>1</td>\n",
       "      <td>1</td>\n",
       "      <td>2</td>\n",
       "      <td>30</td>\n",
       "      <td>0</td>\n",
       "      <td>0</td>\n",
       "      <td>0</td>\n",
       "      <td>1.3</td>\n",
       "      <td>0.0</td>\n",
       "      <td>143.79</td>\n",
       "    </tr>\n",
       "    <tr>\n",
       "      <th>3</th>\n",
       "      <td>2010</td>\n",
       "      <td>1</td>\n",
       "      <td>1</td>\n",
       "      <td>3</td>\n",
       "      <td>30</td>\n",
       "      <td>0</td>\n",
       "      <td>0</td>\n",
       "      <td>0</td>\n",
       "      <td>1.7</td>\n",
       "      <td>0.0</td>\n",
       "      <td>132.66</td>\n",
       "    </tr>\n",
       "    <tr>\n",
       "      <th>4</th>\n",
       "      <td>2010</td>\n",
       "      <td>1</td>\n",
       "      <td>1</td>\n",
       "      <td>4</td>\n",
       "      <td>30</td>\n",
       "      <td>0</td>\n",
       "      <td>0</td>\n",
       "      <td>0</td>\n",
       "      <td>2.0</td>\n",
       "      <td>0.0</td>\n",
       "      <td>121.31</td>\n",
       "    </tr>\n",
       "  </tbody>\n",
       "</table>\n",
       "</div>"
      ],
      "text/plain": [
       "   Year  Month  Day  Hour  Minute  GHI  DHI  DNI  Wind Speed  Temperature  \\\n",
       "0  2010      1    1     0      30    0    0    0         0.9          0.0   \n",
       "1  2010      1    1     1      30    0    0    0         1.0          0.0   \n",
       "2  2010      1    1     2      30    0    0    0         1.3          0.0   \n",
       "3  2010      1    1     3      30    0    0    0         1.7          0.0   \n",
       "4  2010      1    1     4      30    0    0    0         2.0          0.0   \n",
       "\n",
       "   Solar Zenith Angle  \n",
       "0              161.12  \n",
       "1              153.96  \n",
       "2              143.79  \n",
       "3              132.66  \n",
       "4              121.31  "
      ]
     },
     "execution_count": 7,
     "metadata": {},
     "output_type": "execute_result"
    }
   ],
   "source": [
    "# See the first few data point\n",
    "solar_data.head()"
   ]
  },
  {
   "cell_type": "code",
   "execution_count": 8,
   "metadata": {},
   "outputs": [],
   "source": [
    "# let concatinate year and month\n",
    "solar_data[\"Year_month\"] = solar_data[\"Year\"].astype(str) + str(\"/\") +  solar_data[\"Month\"].astype(str)\n"
   ]
  },
  {
   "cell_type": "code",
   "execution_count": 9,
   "metadata": {},
   "outputs": [
    {
     "data": {
      "text/html": [
       "<div>\n",
       "<style scoped>\n",
       "    .dataframe tbody tr th:only-of-type {\n",
       "        vertical-align: middle;\n",
       "    }\n",
       "\n",
       "    .dataframe tbody tr th {\n",
       "        vertical-align: top;\n",
       "    }\n",
       "\n",
       "    .dataframe thead th {\n",
       "        text-align: right;\n",
       "    }\n",
       "</style>\n",
       "<table border=\"1\" class=\"dataframe\">\n",
       "  <thead>\n",
       "    <tr style=\"text-align: right;\">\n",
       "      <th></th>\n",
       "      <th>Year</th>\n",
       "      <th>Month</th>\n",
       "      <th>Day</th>\n",
       "      <th>Hour</th>\n",
       "      <th>Minute</th>\n",
       "      <th>GHI</th>\n",
       "      <th>DHI</th>\n",
       "      <th>DNI</th>\n",
       "      <th>Wind Speed</th>\n",
       "      <th>Temperature</th>\n",
       "      <th>Solar Zenith Angle</th>\n",
       "      <th>Year_month</th>\n",
       "    </tr>\n",
       "  </thead>\n",
       "  <tbody>\n",
       "    <tr>\n",
       "      <th>0</th>\n",
       "      <td>2010</td>\n",
       "      <td>1</td>\n",
       "      <td>1</td>\n",
       "      <td>0</td>\n",
       "      <td>30</td>\n",
       "      <td>0</td>\n",
       "      <td>0</td>\n",
       "      <td>0</td>\n",
       "      <td>0.9</td>\n",
       "      <td>0.0</td>\n",
       "      <td>161.12</td>\n",
       "      <td>2010/1</td>\n",
       "    </tr>\n",
       "    <tr>\n",
       "      <th>1</th>\n",
       "      <td>2010</td>\n",
       "      <td>1</td>\n",
       "      <td>1</td>\n",
       "      <td>1</td>\n",
       "      <td>30</td>\n",
       "      <td>0</td>\n",
       "      <td>0</td>\n",
       "      <td>0</td>\n",
       "      <td>1.0</td>\n",
       "      <td>0.0</td>\n",
       "      <td>153.96</td>\n",
       "      <td>2010/1</td>\n",
       "    </tr>\n",
       "    <tr>\n",
       "      <th>2</th>\n",
       "      <td>2010</td>\n",
       "      <td>1</td>\n",
       "      <td>1</td>\n",
       "      <td>2</td>\n",
       "      <td>30</td>\n",
       "      <td>0</td>\n",
       "      <td>0</td>\n",
       "      <td>0</td>\n",
       "      <td>1.3</td>\n",
       "      <td>0.0</td>\n",
       "      <td>143.79</td>\n",
       "      <td>2010/1</td>\n",
       "    </tr>\n",
       "    <tr>\n",
       "      <th>3</th>\n",
       "      <td>2010</td>\n",
       "      <td>1</td>\n",
       "      <td>1</td>\n",
       "      <td>3</td>\n",
       "      <td>30</td>\n",
       "      <td>0</td>\n",
       "      <td>0</td>\n",
       "      <td>0</td>\n",
       "      <td>1.7</td>\n",
       "      <td>0.0</td>\n",
       "      <td>132.66</td>\n",
       "      <td>2010/1</td>\n",
       "    </tr>\n",
       "    <tr>\n",
       "      <th>4</th>\n",
       "      <td>2010</td>\n",
       "      <td>1</td>\n",
       "      <td>1</td>\n",
       "      <td>4</td>\n",
       "      <td>30</td>\n",
       "      <td>0</td>\n",
       "      <td>0</td>\n",
       "      <td>0</td>\n",
       "      <td>2.0</td>\n",
       "      <td>0.0</td>\n",
       "      <td>121.31</td>\n",
       "      <td>2010/1</td>\n",
       "    </tr>\n",
       "  </tbody>\n",
       "</table>\n",
       "</div>"
      ],
      "text/plain": [
       "   Year  Month  Day  Hour  Minute  GHI  DHI  DNI  Wind Speed  Temperature  \\\n",
       "0  2010      1    1     0      30    0    0    0         0.9          0.0   \n",
       "1  2010      1    1     1      30    0    0    0         1.0          0.0   \n",
       "2  2010      1    1     2      30    0    0    0         1.3          0.0   \n",
       "3  2010      1    1     3      30    0    0    0         1.7          0.0   \n",
       "4  2010      1    1     4      30    0    0    0         2.0          0.0   \n",
       "\n",
       "   Solar Zenith Angle Year_month  \n",
       "0              161.12     2010/1  \n",
       "1              153.96     2010/1  \n",
       "2              143.79     2010/1  \n",
       "3              132.66     2010/1  \n",
       "4              121.31     2010/1  "
      ]
     },
     "execution_count": 9,
     "metadata": {},
     "output_type": "execute_result"
    }
   ],
   "source": [
    "solar_data.head()"
   ]
  },
  {
   "cell_type": "code",
   "execution_count": 10,
   "metadata": {},
   "outputs": [],
   "source": [
    "# Let us group by the data for average of temperature and Solar Zenith Angle per month of year. Keep the year and month column also\n",
    "agg_function = {\"Temperature\": \"mean\", \"Solar Zenith Angle\": \"mean\", \"Month\": \"mean\", \"Year\": \"mean\"}\n",
    "solar_data_group_year = solar_data.groupby(\"Year_month\").agg(agg_function).reset_index() "
   ]
  },
  {
   "cell_type": "code",
   "execution_count": 11,
   "metadata": {},
   "outputs": [
    {
     "data": {
      "text/html": [
       "<div>\n",
       "<style scoped>\n",
       "    .dataframe tbody tr th:only-of-type {\n",
       "        vertical-align: middle;\n",
       "    }\n",
       "\n",
       "    .dataframe tbody tr th {\n",
       "        vertical-align: top;\n",
       "    }\n",
       "\n",
       "    .dataframe thead th {\n",
       "        text-align: right;\n",
       "    }\n",
       "</style>\n",
       "<table border=\"1\" class=\"dataframe\">\n",
       "  <thead>\n",
       "    <tr style=\"text-align: right;\">\n",
       "      <th></th>\n",
       "      <th>Temperature</th>\n",
       "      <th>Solar Zenith Angle</th>\n",
       "    </tr>\n",
       "  </thead>\n",
       "  <tbody>\n",
       "    <tr>\n",
       "      <th>count</th>\n",
       "      <td>132.000000</td>\n",
       "      <td>132.000000</td>\n",
       "    </tr>\n",
       "    <tr>\n",
       "      <th>mean</th>\n",
       "      <td>11.574110</td>\n",
       "      <td>89.736346</td>\n",
       "    </tr>\n",
       "    <tr>\n",
       "      <th>std</th>\n",
       "      <td>8.830992</td>\n",
       "      <td>12.838996</td>\n",
       "    </tr>\n",
       "    <tr>\n",
       "      <th>min</th>\n",
       "      <td>-5.941964</td>\n",
       "      <td>71.830944</td>\n",
       "    </tr>\n",
       "    <tr>\n",
       "      <th>25%</th>\n",
       "      <td>2.881015</td>\n",
       "      <td>78.202396</td>\n",
       "    </tr>\n",
       "    <tr>\n",
       "      <th>50%</th>\n",
       "      <td>11.431250</td>\n",
       "      <td>89.560530</td>\n",
       "    </tr>\n",
       "    <tr>\n",
       "      <th>75%</th>\n",
       "      <td>20.049757</td>\n",
       "      <td>101.231900</td>\n",
       "    </tr>\n",
       "    <tr>\n",
       "      <th>max</th>\n",
       "      <td>25.817876</td>\n",
       "      <td>108.049503</td>\n",
       "    </tr>\n",
       "  </tbody>\n",
       "</table>\n",
       "</div>"
      ],
      "text/plain": [
       "       Temperature  Solar Zenith Angle\n",
       "count   132.000000          132.000000\n",
       "mean     11.574110           89.736346\n",
       "std       8.830992           12.838996\n",
       "min      -5.941964           71.830944\n",
       "25%       2.881015           78.202396\n",
       "50%      11.431250           89.560530\n",
       "75%      20.049757          101.231900\n",
       "max      25.817876          108.049503"
      ]
     },
     "execution_count": 11,
     "metadata": {},
     "output_type": "execute_result"
    }
   ],
   "source": [
    "solar_data_group_year[[\"Temperature\",\"Solar Zenith Angle\"]].describe()"
   ]
  },
  {
   "cell_type": "code",
   "execution_count": 12,
   "metadata": {},
   "outputs": [],
   "source": [
    "# take data based on each year\n",
    "solar_data_group_year_2010 =solar_data_group_year[solar_data_group_year[\"Year\"] == 2010]\n",
    "solar_data_group_year_2011 =solar_data_group_year[solar_data_group_year[\"Year\"] == 2011]\n",
    "solar_data_group_year_2012 =solar_data_group_year[solar_data_group_year[\"Year\"] == 2012]\n",
    "solar_data_group_year_2013 =solar_data_group_year[solar_data_group_year[\"Year\"] == 2013]\n",
    "solar_data_group_year_2014 =solar_data_group_year[solar_data_group_year[\"Year\"] == 2014]\n",
    "solar_data_group_year_2015 =solar_data_group_year[solar_data_group_year[\"Year\"] == 2015]\n",
    "solar_data_group_year_2016 =solar_data_group_year[solar_data_group_year[\"Year\"] == 2016]\n",
    "solar_data_group_year_2017 =solar_data_group_year[solar_data_group_year[\"Year\"] == 2017]\n",
    "solar_data_group_year_2018 =solar_data_group_year[solar_data_group_year[\"Year\"] == 2018]\n",
    "solar_data_group_year_2019 =solar_data_group_year[solar_data_group_year[\"Year\"] == 2019]\n",
    "solar_data_group_year_2020 =solar_data_group_year[solar_data_group_year[\"Year\"] == 2020]\n"
   ]
  },
  {
   "cell_type": "code",
   "execution_count": 13,
   "metadata": {},
   "outputs": [
    {
     "data": {
      "text/html": [
       "<div>\n",
       "<style scoped>\n",
       "    .dataframe tbody tr th:only-of-type {\n",
       "        vertical-align: middle;\n",
       "    }\n",
       "\n",
       "    .dataframe tbody tr th {\n",
       "        vertical-align: top;\n",
       "    }\n",
       "\n",
       "    .dataframe thead th {\n",
       "        text-align: right;\n",
       "    }\n",
       "</style>\n",
       "<table border=\"1\" class=\"dataframe\">\n",
       "  <thead>\n",
       "    <tr style=\"text-align: right;\">\n",
       "      <th></th>\n",
       "      <th>Year_month</th>\n",
       "      <th>Temperature</th>\n",
       "      <th>Solar Zenith Angle</th>\n",
       "      <th>Month</th>\n",
       "      <th>Year</th>\n",
       "    </tr>\n",
       "  </thead>\n",
       "  <tbody>\n",
       "    <tr>\n",
       "      <th>7</th>\n",
       "      <td>2010/5</td>\n",
       "      <td>15.392473</td>\n",
       "      <td>75.025968</td>\n",
       "      <td>5</td>\n",
       "      <td>2010</td>\n",
       "    </tr>\n",
       "    <tr>\n",
       "      <th>8</th>\n",
       "      <td>2010/6</td>\n",
       "      <td>21.429167</td>\n",
       "      <td>71.881764</td>\n",
       "      <td>6</td>\n",
       "      <td>2010</td>\n",
       "    </tr>\n",
       "    <tr>\n",
       "      <th>9</th>\n",
       "      <td>2010/7</td>\n",
       "      <td>25.182796</td>\n",
       "      <td>73.425309</td>\n",
       "      <td>7</td>\n",
       "      <td>2010</td>\n",
       "    </tr>\n",
       "    <tr>\n",
       "      <th>10</th>\n",
       "      <td>2010/8</td>\n",
       "      <td>23.607527</td>\n",
       "      <td>79.312379</td>\n",
       "      <td>8</td>\n",
       "      <td>2010</td>\n",
       "    </tr>\n",
       "    <tr>\n",
       "      <th>11</th>\n",
       "      <td>2010/9</td>\n",
       "      <td>20.504167</td>\n",
       "      <td>87.888069</td>\n",
       "      <td>9</td>\n",
       "      <td>2010</td>\n",
       "    </tr>\n",
       "  </tbody>\n",
       "</table>\n",
       "</div>"
      ],
      "text/plain": [
       "   Year_month  Temperature  Solar Zenith Angle  Month  Year\n",
       "7      2010/5    15.392473           75.025968      5  2010\n",
       "8      2010/6    21.429167           71.881764      6  2010\n",
       "9      2010/7    25.182796           73.425309      7  2010\n",
       "10     2010/8    23.607527           79.312379      8  2010\n",
       "11     2010/9    20.504167           87.888069      9  2010"
      ]
     },
     "execution_count": 13,
     "metadata": {},
     "output_type": "execute_result"
    }
   ],
   "source": [
    "solar_data_group_year_2010.tail()"
   ]
  },
  {
   "cell_type": "code",
   "execution_count": 14,
   "metadata": {},
   "outputs": [
    {
     "data": {
      "image/png": "[encoded data removed]",
      "text/plain": [
       "<Figure size 864x504 with 1 Axes>"
      ]
     },
     "metadata": {
      "needs_background": "light"
     },
     "output_type": "display_data"
    }
   ],
   "source": [
    "# plot the average temperature per month in different year\n",
    "plt.figure(figsize=(12, 7))\n",
    "sns.lineplot(data=solar_data_group_year_2010, x=\"Month\", y=\"Temperature\", label = \"2010\")\n",
    "sns.lineplot(data=solar_data_group_year_2011, x=\"Month\", y=\"Temperature\", label = \"2011\")\n",
    "sns.lineplot(data=solar_data_group_year_2012, x=\"Month\", y=\"Temperature\", label = \"2012\")\n",
    "sns.lineplot(data=solar_data_group_year_2013, x=\"Month\", y=\"Temperature\", label = \"2013\")\n",
    "sns.lineplot(data=solar_data_group_year_2014, x=\"Month\", y=\"Temperature\", label = \"2014\")\n",
    "sns.lineplot(data=solar_data_group_year_2015, x=\"Month\", y=\"Temperature\", label = \"2015\")\n",
    "sns.lineplot(data=solar_data_group_year_2016, x=\"Month\", y=\"Temperature\", label = \"2016\")\n",
    "sns.lineplot(data=solar_data_group_year_2017, x=\"Month\", y=\"Temperature\", label = \"2017\")\n",
    "sns.lineplot(data=solar_data_group_year_2018, x=\"Month\", y=\"Temperature\", label = \"2018\")\n",
    "sns.lineplot(data=solar_data_group_year_2019, x=\"Month\", y=\"Temperature\", label = \"2019\")\n",
    "sns.lineplot(data=solar_data_group_year_2020, x=\"Month\", y=\"Temperature\", label = \"2020\")\n",
    "plt.legend();\n"
   ]
  },
  {
   "cell_type": "code",
   "execution_count": 15,
   "metadata": {},
   "outputs": [
    {
     "data": {
      "text/html": [
       "<div>\n",
       "<style scoped>\n",
       "    .dataframe tbody tr th:only-of-type {\n",
       "        vertical-align: middle;\n",
       "    }\n",
       "\n",
       "    .dataframe tbody tr th {\n",
       "        vertical-align: top;\n",
       "    }\n",
       "\n",
       "    .dataframe thead th {\n",
       "        text-align: right;\n",
       "    }\n",
       "</style>\n",
       "<table border=\"1\" class=\"dataframe\">\n",
       "  <thead>\n",
       "    <tr style=\"text-align: right;\">\n",
       "      <th></th>\n",
       "      <th>Temperature</th>\n",
       "      <th>Solar Zenith Angle</th>\n",
       "      <th>Month</th>\n",
       "      <th>Year</th>\n",
       "    </tr>\n",
       "  </thead>\n",
       "  <tbody>\n",
       "    <tr>\n",
       "      <th>Temperature</th>\n",
       "      <td>1.000000</td>\n",
       "      <td>-0.790195</td>\n",
       "      <td>0.346016</td>\n",
       "      <td>0.025605</td>\n",
       "    </tr>\n",
       "    <tr>\n",
       "      <th>Solar Zenith Angle</th>\n",
       "      <td>-0.790195</td>\n",
       "      <td>1.000000</td>\n",
       "      <td>0.138705</td>\n",
       "      <td>-0.000495</td>\n",
       "    </tr>\n",
       "    <tr>\n",
       "      <th>Month</th>\n",
       "      <td>0.346016</td>\n",
       "      <td>0.138705</td>\n",
       "      <td>1.000000</td>\n",
       "      <td>0.000000</td>\n",
       "    </tr>\n",
       "    <tr>\n",
       "      <th>Year</th>\n",
       "      <td>0.025605</td>\n",
       "      <td>-0.000495</td>\n",
       "      <td>0.000000</td>\n",
       "      <td>1.000000</td>\n",
       "    </tr>\n",
       "  </tbody>\n",
       "</table>\n",
       "</div>"
      ],
      "text/plain": [
       "                    Temperature  Solar Zenith Angle     Month      Year\n",
       "Temperature            1.000000           -0.790195  0.346016  0.025605\n",
       "Solar Zenith Angle    -0.790195            1.000000  0.138705 -0.000495\n",
       "Month                  0.346016            0.138705  1.000000  0.000000\n",
       "Year                   0.025605           -0.000495  0.000000  1.000000"
      ]
     },
     "execution_count": 15,
     "metadata": {},
     "output_type": "execute_result"
    }
   ],
   "source": [
    "# See the correlation plot\n",
    "solar_data_group_year.corr()"
   ]
  },
  {
   "cell_type": "markdown",
   "metadata": {},
   "source": [
    "# In the future, I will join the data frame based on the rooftool data latitude and longitude and will calculate the radition intensity.\n"
   ]
  },
  {
   "cell_type": "markdown",
   "metadata": {},
   "source": [
    "# I plan to use this paper:\n",
    "# https://iopscience.iop.org/article/10.1088/1748-9326/aaa554"
   ]
  },
  {
   "cell_type": "code",
   "execution_count": null,
   "metadata": {},
   "outputs": [],
   "source": []
  }
 ],
 "metadata": {
  "kernelspec": {
   "display_name": "Python 3",
   "language": "python",
   "name": "python3"
  },
  "language_info": {
   "codemirror_mode": {
    "name": "ipython",
    "version": 3
   },
   "file_extension": ".py",
   "mimetype": "text/x-python",
   "name": "python",
   "nbconvert_exporter": "python",
   "pygments_lexer": "ipython3",
   "version": "3.7.6"
  }
 },
 "nbformat": 4,
 "nbformat_minor": 4
}
